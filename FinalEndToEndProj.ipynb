{
 "cells": [
  {
   "cell_type": "code",
   "execution_count": 1,
   "metadata": {},
   "outputs": [
    {
     "data": {
      "text/plain": [
       "'but can a movement on the hood think clear that he did that the background they and how to get the well being paid in a given their kids i have not been there done on full budget amendment kind of talk of gonna have to put her behind and hedgehog clinton card for our good what they hit collide at option of hardship'"
      ]
     },
     "execution_count": 1,
     "metadata": {},
     "output_type": "execute_result"
    }
   ],
   "source": [
    "import speech_recognition as sr\n",
    "r=sr.Recognizer()\n",
    "harv=sr.AudioFile('filtered.wav')\n",
    "with harv as source:\n",
    "    audio=r.record(source)\n",
    "r.recognize_sphinx(audio)"
   ]
  },
  {
   "cell_type": "code",
   "execution_count": 2,
   "metadata": {},
   "outputs": [
    {
     "data": {
      "text/plain": [
       "['They changed their mind only after I was elected president.Democrats in Congress have refused to acknowledge the crisis and they have refused to provide our brave border agents with the tools they desperately need to protect our families and our nation.The federal government remains shut down for one reason, and one reason only, because Democrats will not fund border security.',\n",
       " 'The only thing that is immoral is the politicians to do nothing and continue to allow more innocent people to be so horribly victimized.America’s heart broke the day after Christmas when a young police officer in California was savagely murdered in cold blood by an illegal alien, just came across the border.']"
      ]
     },
     "execution_count": 2,
     "metadata": {},
     "output_type": "execute_result"
    }
   ],
   "source": [
    "from nltk.corpus import stopwords\n",
    "from string import punctuation\n",
    "from nltk.tokenize import sent_tokenize,word_tokenize\n",
    "from nltk.probability import FreqDist\n",
    "from heapq import nlargest\n",
    "from collections import defaultdict\n",
    "from textblob import TextBlob \n",
    "\n",
    "text=\"Every day, Customs and Border Protection agents encounter thousands of illegal immigrants trying to enter our country. We are out of space to hold them, and we have no way to promptly return them back home to their country. America proudly welcomes millions of lawful immigrants who enrich our society and contribute to our nation, but all Americans are hurt by uncontrolled illegal migration.It strains public resources and drives down jobs and wages. Among those hardest hit are African-Americans and Hispanic-Americans. Our southern border is a pipeline for vast quantities of illegal drugs including meth, heroin, cocaine, and fentanyl. Every week, 300 of our citizens are killed by heroin alone. Ninety percent of which floods across from our southern border. More Americans will die from drugs this year than were killed in the entire Vietnam War.In the last two years, ICE officers made 266,000 arrests of aliens with criminal records including those charged or convicted of 100,000 assaults, 30,000 sex crimes, and 4,000 violent killings. Over the years, thousands of Americans have been brutally killed by those who illegally entered our country and thousands more lives will be lost if we don’t act right now.This is a humanitarian crisis. A crisis of the heart, and a crisis of the soul. Last month, 20,000 migrant children were illegally brought into the United States, a dramatic increase. These children are used as human pawns by vicious coyotes and ruthless gangs. One in three women are sexually assaulted on the dangerous trek up through Mexico. Women and children are the biggest victims, by far, of our broken system.This is the tragic reality of illegal immigration on our southern border. This is the cycle of human suffering that I am determined to end. My administration has presented Congress with a detailed proposal to secure the border and stop the criminal gangs, drug smugglers, and human traffickers. It’s a tremendous problem.Editors’ PicksBigger, Saltier, Heavier: Fast Food Since 1986 in 3 Simple ChartsThere Are No Five Stages of Grief‘Tell Your Husband to Leave Me Alone’Our proposal was developed by law enforcement professionals and border agents at the Department of Homeland Security. These are the resources they have requested to properly perform their mission and keep America safe. In fact, safer than ever before.The proposal from homeland security includes cutting edge technology for detecting drugs, weapons, illegal contraband and many other things. We have requested more agents, immigration judges to process the sharp rise of unlawful migration fueled by our very strong economy.Our plan also contains an urgent request for humanitarian assistance and medical support. Furthermore, we have asked Congress to close border security loopholes so that illegal immigrant children can be safely and humanely returned back home.Finally, as part of an overall approach to border security, law enforcement professionals have requested $5.7 billion for a physical barrier. At the request of Democrats it will be a steel barrier rather than a concrete wall. This barrier is absolutely critical to border security. It’s also what our professionals at the border want and need. This is just common sense.The border wall would very quickly pay for itself. The cost of illegal drugs exceeds $500 billion a year. Vastly more than the $5.7 billion we have requested from Congress. The wall will also be paid for indirectly by the great new trade deal we have made with Mexico.Senator Chuck Schumer, who you will be hearing from later tonight, has repeatedly supported a physical barrier in the past along with many other Democrats. They changed their mind only after I was elected president.Democrats in Congress have refused to acknowledge the crisis and they have refused to provide our brave border agents with the tools they desperately need to protect our families and our nation.The federal government remains shut down for one reason, and one reason only, because Democrats will not fund border security. My administration is doing everything in our power to help those impacted by the situation, but the only solution is for Democrats to pass a spending bill that defends our borders and reopens the government.This situation could be solved in a 45 minute meeting. I have invited congressional leadership to the White House tomorrow to get this done. Hopefully we can rise above partisan politics in order to support national security.Some have suggested a barrier is immoral. Then why do wealthy politicians build walls, fences, and gates around their homes? They don’t build walls because they hate the people on the outside but because they love the people on the inside. The only thing that is immoral is the politicians to do nothing and continue to allow more innocent people to be so horribly victimized.America’s heart broke the day after Christmas when a young police officer in California was savagely murdered in cold blood by an illegal alien, just came across the border. The life of an American hero was stolen by someone who had no right to be in our country. Day after day, precious lives are cut short by those who have violated our borders.In California, an air force veteran was raped, murdered, and beaten to death with a hammer by an illegal alien with a long criminal history. In Georgia, an illegal alien was recently charged with murder for killing, beheading, and dismembering his neighbor. In Maryland, MS-13 gang members who arrived in the United States as unaccompanied minors were arrested and charged last year after viciously stabbing and beating a 16-year-old girl.Over the last several years I have met with dozens of families whose loved ones were stolen by illegal immigration. I have held the hands of the weeping mothers and embraced the grief stricken fathers. So sad, so terrible. I will never forget the pain in their eyes, the tremble in their voices, and the sadness gripping their souls. How much more American blood must we shed before Congress does its job?To those who refuse to compromise in the name of border security, I would ask, imagine if it was your child, your husband, or your wife whose life was so cruelly shattered and totally broken. To every member of Congress: pass a bill that ends this crisis. To every citizen, call Congress, and tell them to finally, after all of these decades, secure our border.\"\n",
    "\n",
    "sents=sent_tokenize(text)\n",
    "def summarize(text,n):\n",
    "    \n",
    "    \n",
    "    for i in range(len(sents)):\n",
    "        row=sents[i]\n",
    "        row = row.replace(\"\\n\", \"\")\n",
    "        row = row.replace(\"\\t\", \"\")\n",
    "        row = row.replace(\"-\", \"\")\n",
    "        sents[i] = row \n",
    "    \n",
    "           \n",
    "    assert n<=len(sents)\n",
    "    word_sent=word_tokenize(text.lower())\n",
    "    freq=FreqDist(word_sent)\n",
    "    nlargest(20,freq,key=freq.get)\n",
    "    customStopwords=set(stopwords.words('english')+list(punctuation)+list(\"\\n\"))\n",
    "    word_sent=[word for word in word_sent if word not in customStopwords]\n",
    "    \n",
    "    ranking=defaultdict(int)\n",
    "    for i,sent in enumerate(sents):\n",
    "        for w in word_tokenize(sent.lower()):\n",
    "            if w in freq:\n",
    "                ranking[i]+=freq[w]\n",
    "    sents_idx=nlargest(n,ranking,key=ranking.get)\n",
    "    return [sents[j] for j in sorted(sents_idx)]\n",
    "\n",
    "summarize(text,2)"
   ]
  },
  {
   "cell_type": "code",
   "execution_count": 3,
   "metadata": {},
   "outputs": [
    {
     "name": "stderr",
     "output_type": "stream",
     "text": [
      "C:\\Users\\ishan\\Anaconda3\\lib\\site-packages\\gensim\\utils.py:1212: UserWarning: detected Windows; aliasing chunkize to chunkize_serial\n",
      "  warnings.warn(\"detected Windows; aliasing chunkize to chunkize_serial\")\n"
     ]
    },
    {
     "name": "stdout",
     "output_type": "stream",
     "text": [
      "Max Ventures and Industries Ltd today said its board has approved raising Rs 450 crore by way of rights issue.\n",
      "The board of directors has considered and approved raising of funds by way of offer and issue of equity shares on rights basis for an amount aggregating Rs 450 crore, the company said in a regulatory filing.\n",
      "The fund raise in subject to necessary approvals, it added.\n",
      "========\n",
      "Max Ventures and Industries Ltd today said its board has approved raising Rs 450 crore by way of rights issue.\n",
      "The board of directors has considered and approved raising of funds by way of offer and issue of equity shares on rights basis for an amount aggregating Rs 450 crore, the company said in a regulatory filing.\n",
      "Max Ventures and Industries stock closed 1.92 per cent up at Rs 92.70 on BSE.\n",
      "========\n",
      "Max Ventures and Industries Ltd today said its board has approved raising Rs 450 crore by way of rights issue.\n",
      "The board of directors has considered and approved raising of funds by way of offer and issue of equity shares on rights basis for an amount aggregating Rs 450 crore, the company said in a regulatory filing.\n",
      "Max Ventures and Industries stock closed 1.92 per cent up at Rs 92.70 on BSE.\n",
      "========\n",
      "\n"
     ]
    }
   ],
   "source": [
    "from sumy.summarizers import luhn\n",
    "from sumy.nlp.stemmers import Stemmer\n",
    "from sumy.utils import get_stop_words\n",
    "from sumy.nlp.tokenizers import Tokenizer\n",
    "from gensim.summarization import summarize\n",
    "from sumy.summarizers.luhn import LuhnSummarizer \n",
    "from sumy.parsers.plaintext import PlaintextParser\n",
    "from sumy.summarizers.lex_rank import LexRankSummarizer\n",
    "from sumy.summarizers.lsa import LsaSummarizer as Summarizer\n",
    "\n",
    "LANGUAGE = \"english\"\n",
    "SENTENCES_COUNT = 3\n",
    "\n",
    "text=\"Max Ventures and Industries Ltd today said its board has approved raising Rs 450 crore by way of rights issue. The board of directors has considered and approved raising of funds by way of offer and issue of equity shares on rights basis for an amount aggregating Rs 450 crore, the company said in a regulatory filing. The fund raise in subject to necessary approvals, it added. Max Ventures and Industries stock closed 1.92 per cent up at Rs 92.70 on BSE.\"\n",
    "\n",
    "\n",
    "parser = PlaintextParser.from_string((text), Tokenizer(LANGUAGE))\n",
    "stemmer = Stemmer(LANGUAGE)\n",
    "\n",
    "\n",
    "\n",
    "\n",
    "def lexrank_summarizer():\n",
    "    summarizer_LexRank = LexRankSummarizer(stemmer)\n",
    "    summarizer_LexRank.stop_words = get_stop_words(LANGUAGE)\n",
    "    for sentence in summarizer_LexRank(parser.document, SENTENCES_COUNT):\n",
    "        print (sentence)\n",
    "        \n",
    "        \n",
    "def lsa_summarizer():\n",
    "    summarizer_lsa = Summarizer(stemmer)\n",
    "    summarizer_lsa.stop_words = get_stop_words(LANGUAGE)\n",
    "    ab=\"\"\n",
    "    for sentence in summarizer_lsa(parser.document, SENTENCES_COUNT):\n",
    "        print (sentence)\n",
    "        #print(type(sentence))\n",
    "        ab+=str(sentence)\n",
    "    return ab\n",
    "   # return sentence\n",
    "def luhn_summarizer():\n",
    "    summarizer_luhn = LuhnSummarizer(stemmer)\n",
    "    summarizer_luhn.stop_words = get_stop_words(LANGUAGE)\n",
    "    for sentence in summarizer_luhn(parser.document, SENTENCES_COUNT):\n",
    "        print(sentence)\n",
    "        \n",
    "def gensim_summarizer():\n",
    "    print(summarize(text))\n",
    "\n",
    "\n",
    "lexrank_summarizer()\n",
    "print(\"========\")\n",
    "lsa_summarizer()\n",
    "print(\"========\")\n",
    "luhn_summarizer()\n",
    "print(\"========\")\n",
    "gensim_summarizer()"
   ]
  },
  {
   "cell_type": "code",
   "execution_count": 4,
   "metadata": {},
   "outputs": [
    {
     "name": "stderr",
     "output_type": "stream",
     "text": [
      "C:\\Users\\ishan\\Anaconda3\\lib\\site-packages\\h5py\\__init__.py:36: FutureWarning: Conversion of the second argument of issubdtype from `float` to `np.floating` is deprecated. In future, it will be treated as `np.float64 == np.dtype(float).type`.\n",
      "  from ._conv import register_converters as _register_converters\n",
      "Using TensorFlow backend.\n"
     ]
    }
   ],
   "source": [
    "from keras.models import load_model\n",
    "model = load_model('model_current.h5')"
   ]
  },
  {
   "cell_type": "code",
   "execution_count": 5,
   "metadata": {},
   "outputs": [
    {
     "data": {
      "text/plain": [
       "128.51009333333334"
      ]
     },
     "execution_count": 5,
     "metadata": {},
     "output_type": "execute_result"
    }
   ],
   "source": [
    "from importlib import reload\n",
    "import sys\n",
    "from imp import reload\n",
    "import warnings\n",
    "warnings.filterwarnings('ignore')\n",
    "if sys.version[0] == '2':\n",
    "    reload(sys)\n",
    "    sys.setdefaultencoding(\"utf-8\")\n",
    "\n",
    "import pandas as pd\n",
    "\n",
    "df1 = pd.read_csv('labeledTrainData.tsv', delimiter=\"\\t\")\n",
    "df1 = df1.drop(['id'], axis=1)\n",
    "\n",
    "df2 = pd.read_csv('imdb_master.csv',encoding=\"latin-1\")\n",
    "\n",
    "df2 = df2.drop(['Unnamed: 0','type','file'],axis=1)\n",
    "df2.columns = [\"review\",\"sentiment\"]\n",
    "\n",
    "df2 = df2[df2.sentiment != 'unsup']\n",
    "df2['sentiment'] = df2['sentiment'].map({'pos': 1, 'neg': 0})\n",
    "\n",
    "df = pd.concat([df1, df2]).reset_index(drop=True)\n",
    "\n",
    "import re\n",
    "from nltk.stem import WordNetLemmatizer\n",
    "from nltk.corpus import stopwords\n",
    "\n",
    "stop_words = set(stopwords.words(\"english\")) \n",
    "lemmatizer = WordNetLemmatizer()\n",
    "\n",
    "\n",
    "def clean_text(text):\n",
    "    text = re.sub(r'[^\\w\\s]','',text, re.UNICODE)\n",
    "    text = text.lower()\n",
    "    text = [lemmatizer.lemmatize(token) for token in text.split(\" \")]\n",
    "    text = [lemmatizer.lemmatize(token, \"v\") for token in text]\n",
    "    text = [word for word in text if not word in stop_words]\n",
    "    text = \" \".join(text)\n",
    "    return text\n",
    "\n",
    "df['Processed_Reviews'] = df.review.apply(lambda x: clean_text(x))\n",
    "\n",
    "df.Processed_Reviews.apply(lambda x: len(x.split(\" \"))).mean()"
   ]
  },
  {
   "cell_type": "code",
   "execution_count": 6,
   "metadata": {},
   "outputs": [
    {
     "data": {
      "text/plain": [
       "array([[0.00392666]], dtype=float32)"
      ]
     },
     "execution_count": 6,
     "metadata": {},
     "output_type": "execute_result"
    }
   ],
   "source": [
    "from keras.preprocessing.text import Tokenizer as tkz\n",
    "from keras.preprocessing.sequence import pad_sequences\n",
    "#from keras.layers import Dense , Input , LSTM , Embedding, Dropout , Activation, GRU, Flatten\n",
    "#from keras.layers import Bidirectional, GlobalMaxPool1D\n",
    "from keras.models import Model, Sequential\n",
    "#from keras.layers import Convolution1D\n",
    "#from keras import initializers, regularizers, constraints, optimizers, layers\n",
    "\n",
    "\n",
    "max_features = 6000\n",
    "tokenizer = tkz(num_words=max_features)\n",
    "tokenizer.fit_on_texts(df['Processed_Reviews'])\n",
    "list_tokenized_train = tokenizer.texts_to_sequences(df['Processed_Reviews'])\n",
    "\n",
    "maxlen = 130\n",
    "\n",
    "ex2=[\"Really bad horrible film wish did not see\",\"A great perfect film which is extremely good acting with plot\"]\n",
    "ex3=[\"Really bad horrible film wish did not see terrible but ok so far\"]\n",
    "ex_list=tokenizer.texts_to_sequences(ex2)\n",
    "ex3_list=tokenizer.texts_to_sequences(ex3)\n",
    "ex2padded=pad_sequences(ex_list,maxlen=maxlen)\n",
    "ex3pad=pad_sequences(ex3_list,maxlen=maxlen)\n",
    "model.predict(ex3pad)"
   ]
  },
  {
   "cell_type": "code",
   "execution_count": 7,
   "metadata": {},
   "outputs": [
    {
     "name": "stdout",
     "output_type": "stream",
     "text": [
      "Every day, Customs and Border Protection agents encounter thousands of illegal immigrants trying to enter our country. We are out of space to hold them, and we have no way to promptly return them back home to their country. America proudly welcomes millions of lawful immigrants who enrich our society and contribute to our nation, but all Americans are hurt by uncontrolled illegal migration.It strains public resources and drives down jobs and wages. Among those hardest hit are African-Americans and Hispanic-Americans. Our southern border is a pipeline for vast quantities of illegal drugs including meth, heroin, cocaine, and fentanyl. Every week, 300 of our citizens are killed by heroin alone. Ninety percent of which floods across from our southern border. More Americans will die from drugs this year than were killed in the entire Vietnam War.In the last two years, ICE officers made 266,000 arrests of aliens with criminal records including those charged or convicted of 100,000 assaults, 30,000 sex crimes, and 4,000 violent killings. Over the years, thousands of Americans have been brutally killed by those who illegally entered our country and thousands more lives will be lost if we don’t act right now.This is a humanitarian crisis. A crisis of the heart, and a crisis of the soul. Last month, 20,000 migrant children were illegally brought into the United States, a dramatic increase. These children are used as human pawns by vicious coyotes and ruthless gangs. One in three women are sexually assaulted on the dangerous trek up through Mexico. Women and children are the biggest victims, by far, of our broken system.This is the tragic reality of illegal immigration on our southern border. This is the cycle of human suffering that I am determined to end. My administration has presented Congress with a detailed proposal to secure the border and stop the criminal gangs, drug smugglers, and human traffickers. It’s a tremendous problem.Editors’ PicksBigger, Saltier, Heavier: Fast Food Since 1986 in 3 Simple ChartsThere Are No Five Stages of Grief‘Tell Your Husband to Leave Me Alone’Our proposal was developed by law enforcement professionals and border agents at the Department of Homeland Security. These are the resources they have requested to properly perform their mission and keep America safe. In fact, safer than ever before.The proposal from homeland security includes cutting edge technology for detecting drugs, weapons, illegal contraband and many other things. We have requested more agents, immigration judges to process the sharp rise of unlawful migration fueled by our very strong economy.Our plan also contains an urgent request for humanitarian assistance and medical support. Furthermore, we have asked Congress to close border security loopholes so that illegal immigrant children can be safely and humanely returned back home.Finally, as part of an overall approach to border security, law enforcement professionals have requested $5.7 billion for a physical barrier. At the request of Democrats it will be a steel barrier rather than a concrete wall. This barrier is absolutely critical to border security. It’s also what our professionals at the border want and need. This is just common sense.The border wall would very quickly pay for itself. The cost of illegal drugs exceeds $500 billion a year. Vastly more than the $5.7 billion we have requested from Congress. The wall will also be paid for indirectly by the great new trade deal we have made with Mexico.Senator Chuck Schumer, who you will be hearing from later tonight, has repeatedly supported a physical barrier in the past along with many other Democrats. They changed their mind only after I was elected president.Democrats in Congress have refused to acknowledge the crisis and they have refused to provide our brave border agents with the tools they desperately need to protect our families and our nation.The federal government remains shut down for one reason, and one reason only, because Democrats will not fund border security. My administration is doing everything in our power to help those impacted by the situation, but the only solution is for Democrats to pass a spending bill that defends our borders and reopens the government.This situation could be solved in a 45 minute meeting. I have invited congressional leadership to the White House tomorrow to get this done. Hopefully we can rise above partisan politics in order to support national security.Some have suggested a barrier is immoral. Then why do wealthy politicians build walls, fences, and gates around their homes? They don’t build walls because they hate the people on the outside but because they love the people on the inside. The only thing that is immoral is the politicians to do nothing and continue to allow more innocent people to be so horribly victimized.America’s heart broke the day after Christmas when a young police officer in California was savagely murdered in cold blood by an illegal alien, just came across the border. The life of an American hero was stolen by someone who had no right to be in our country. Day after day, precious lives are cut short by those who have violated our borders.In California, an air force veteran was raped, murdered, and beaten to death with a hammer by an illegal alien with a long criminal history. In Georgia, an illegal alien was recently charged with murder for killing, beheading, and dismembering his neighbor. In Maryland, MS-13 gang members who arrived in the United States as unaccompanied minors were arrested and charged last year after viciously stabbing and beating a 16-year-old girl.Over the last several years I have met with dozens of families whose loved ones were stolen by illegal immigration. I have held the hands of the weeping mothers and embraced the grief stricken fathers. So sad, so terrible. I will never forget the pain in their eyes, the tremble in their voices, and the sadness gripping their souls. How much more American blood must we shed before Congress does its job?To those who refuse to compromise in the name of border security, I would ask, imagine if it was your child, your husband, or your wife whose life was so cruelly shattered and totally broken. To every member of Congress: pass a bill that ends this crisis. To every citizen, call Congress, and tell them to finally, after all of these decades, secure our border.\n",
      "\n",
      "Furthermore, we have asked Congress to close border security loopholes so that illegal immigrant children can be safely and humanely returned back home.Finally, as part of an overall approach to border security, law enforcement professionals have requested $5.7 billion for a physical barrier.\n",
      "Reached Here\n",
      "wtfffffffffff\n",
      "<class 'float'>\n"
     ]
    }
   ],
   "source": [
    "from tkinter import *\n",
    "#import tkMessageBox\n",
    "from tkinter import messagebox\n",
    "\n",
    "master =Tk()\n",
    "\n",
    "def lexrank_summarizer2(ip,number):\n",
    "    LANGUAGE = \"english\"\n",
    "    SENTENCES_COUNT = number\n",
    "    parser = PlaintextParser.from_string((ip), Tokenizer(LANGUAGE))\n",
    "    stemmer = Stemmer(LANGUAGE)\n",
    "    summarizer_LexRank = LexRankSummarizer(stemmer)\n",
    "    summarizer_LexRank.stop_words = get_stop_words(LANGUAGE)\n",
    "    sumFin=\"\"\n",
    "    for sentence in summarizer_LexRank(parser.document, SENTENCES_COUNT):\n",
    "        print (sentence)\n",
    "        sumFin+=str(sentence)\n",
    "    return sumFin\n",
    "\n",
    "def lsa_summarizer2(strop,num):    \n",
    "    LANGUAGE = \"english\"\n",
    "    SENTENCES_COUNT = num\n",
    "    print(\"at x\")\n",
    "    parser = PlaintextParser.from_string((strop), Tokenizer(LANGUAGE))\n",
    "    print(\"at y\")\n",
    "    stemmer = Stemmer(LANGUAGE)\n",
    "    summarizer_lsa = Summarizer(stemmer)\n",
    "    summarizer_lsa.stop_words = get_stop_words(LANGUAGE)\n",
    "    ab=\"\"\n",
    "    for sentence in summarizer_lsa(parser.document, SENTENCES_COUNT):\n",
    "        print (sentence)\n",
    "        #print(type(sentence))\n",
    "        ab+=str(sentence)\n",
    "    print(ab)\n",
    "    return ab\n",
    "\n",
    "\n",
    "def helloCallLast(summary):\n",
    "   blo=TextBlob(summary) \n",
    "   #print(\"test\")\n",
    "   sTest=[summary]\n",
    "   ex_test=tokenizer.texts_to_sequences(sTest)\n",
    "   sNt=model.predict(ex_test)\n",
    "   stringSent=\"Positive\"\n",
    "   abc=float(sNt[0])\n",
    "   if abc < 0.5:\n",
    "       stringSent=\"Negative\"\n",
    "   print(type(abc)) \n",
    "   messagebox.showinfo( \"Sentiment\", stringSent + str(\",score is \") + str(abc) )\n",
    " \n",
    "def helloCallBack():\n",
    "   global E1\n",
    "   global textBox\n",
    "   string1=str(textBox.get(\"1.0\",END))\n",
    "   int1 = int(E1.get())-1\n",
    "   print(string1)\n",
    "   top = Toplevel() \n",
    "   top.title('Summary')\n",
    "   sumry=lexrank_summarizer2(string1,(int1-1))\n",
    "   #lsa_summarizer() \n",
    "   print(\"Reached Here\")\n",
    "   textBox2=Text(top, height=15, width=75,fg=\"yellow\",bg=\"black\")\n",
    "   textBox2.insert(INSERT,sumry)\n",
    "   textBox2.pack()\n",
    "   B2 = Button(top, text =\"Analyze-Sentiment\", command = helloCallLast(sumry))\n",
    "   B2.pack()\n",
    "   #messagebox.showinfo( \"Summarized text is\", \"Hello World\")\n",
    "\n",
    "B = Button(master, text =\"Summarize\", command = helloCallBack, bg=\"green\",fg=\"yellow\")\n",
    "\n",
    "B.pack()\n",
    "\n",
    "text2=\"Every day, Customs and Border Protection agents encounter thousands of illegal immigrants trying to enter our country. We are out of space to hold them, and we have no way to promptly return them back home to their country. America proudly welcomes millions of lawful immigrants who enrich our society and contribute to our nation, but all Americans are hurt by uncontrolled illegal migration.It strains public resources and drives down jobs and wages. Among those hardest hit are African-Americans and Hispanic-Americans. Our southern border is a pipeline for vast quantities of illegal drugs including meth, heroin, cocaine, and fentanyl. Every week, 300 of our citizens are killed by heroin alone. Ninety percent of which floods across from our southern border. More Americans will die from drugs this year than were killed in the entire Vietnam War.In the last two years, ICE officers made 266,000 arrests of aliens with criminal records including those charged or convicted of 100,000 assaults, 30,000 sex crimes, and 4,000 violent killings. Over the years, thousands of Americans have been brutally killed by those who illegally entered our country and thousands more lives will be lost if we don’t act right now.This is a humanitarian crisis. A crisis of the heart, and a crisis of the soul. Last month, 20,000 migrant children were illegally brought into the United States, a dramatic increase. These children are used as human pawns by vicious coyotes and ruthless gangs. One in three women are sexually assaulted on the dangerous trek up through Mexico. Women and children are the biggest victims, by far, of our broken system.This is the tragic reality of illegal immigration on our southern border. This is the cycle of human suffering that I am determined to end. My administration has presented Congress with a detailed proposal to secure the border and stop the criminal gangs, drug smugglers, and human traffickers. It’s a tremendous problem.Editors’ PicksBigger, Saltier, Heavier: Fast Food Since 1986 in 3 Simple ChartsThere Are No Five Stages of Grief‘Tell Your Husband to Leave Me Alone’Our proposal was developed by law enforcement professionals and border agents at the Department of Homeland Security. These are the resources they have requested to properly perform their mission and keep America safe. In fact, safer than ever before.The proposal from homeland security includes cutting edge technology for detecting drugs, weapons, illegal contraband and many other things. We have requested more agents, immigration judges to process the sharp rise of unlawful migration fueled by our very strong economy.Our plan also contains an urgent request for humanitarian assistance and medical support. Furthermore, we have asked Congress to close border security loopholes so that illegal immigrant children can be safely and humanely returned back home.Finally, as part of an overall approach to border security, law enforcement professionals have requested $5.7 billion for a physical barrier. At the request of Democrats it will be a steel barrier rather than a concrete wall. This barrier is absolutely critical to border security. It’s also what our professionals at the border want and need. This is just common sense.The border wall would very quickly pay for itself. The cost of illegal drugs exceeds $500 billion a year. Vastly more than the $5.7 billion we have requested from Congress. The wall will also be paid for indirectly by the great new trade deal we have made with Mexico.Senator Chuck Schumer, who you will be hearing from later tonight, has repeatedly supported a physical barrier in the past along with many other Democrats. They changed their mind only after I was elected president.Democrats in Congress have refused to acknowledge the crisis and they have refused to provide our brave border agents with the tools they desperately need to protect our families and our nation.The federal government remains shut down for one reason, and one reason only, because Democrats will not fund border security. My administration is doing everything in our power to help those impacted by the situation, but the only solution is for Democrats to pass a spending bill that defends our borders and reopens the government.This situation could be solved in a 45 minute meeting. I have invited congressional leadership to the White House tomorrow to get this done. Hopefully we can rise above partisan politics in order to support national security.Some have suggested a barrier is immoral. Then why do wealthy politicians build walls, fences, and gates around their homes? They don’t build walls because they hate the people on the outside but because they love the people on the inside. The only thing that is immoral is the politicians to do nothing and continue to allow more innocent people to be so horribly victimized.America’s heart broke the day after Christmas when a young police officer in California was savagely murdered in cold blood by an illegal alien, just came across the border. The life of an American hero was stolen by someone who had no right to be in our country. Day after day, precious lives are cut short by those who have violated our borders.In California, an air force veteran was raped, murdered, and beaten to death with a hammer by an illegal alien with a long criminal history. In Georgia, an illegal alien was recently charged with murder for killing, beheading, and dismembering his neighbor. In Maryland, MS-13 gang members who arrived in the United States as unaccompanied minors were arrested and charged last year after viciously stabbing and beating a 16-year-old girl.Over the last several years I have met with dozens of families whose loved ones were stolen by illegal immigration. I have held the hands of the weeping mothers and embraced the grief stricken fathers. So sad, so terrible. I will never forget the pain in their eyes, the tremble in their voices, and the sadness gripping their souls. How much more American blood must we shed before Congress does its job?To those who refuse to compromise in the name of border security, I would ask, imagine if it was your child, your husband, or your wife whose life was so cruelly shattered and totally broken. To every member of Congress: pass a bill that ends this crisis. To every citizen, call Congress, and tell them to finally, after all of these decades, secure our border.\"\n",
    "text3=\"Brian Tracy has once said “You can’t control what happens to you but you can control your attitude towards what happens to you and in that you will be mastering change rather than allowing it to master you”. World is a difficult place to live. With so many different kind of people around us, the surrounding and the environment, it is hard to find peace. Everyday everyone is struggling for being successful in life. Everyone have their problems and sorrows to deal with. The ongoing struggle and the barriers on every step we take becomes a source of depression. We tend to lose our mind and heart. And with so much of depression around us, it adds to our misery. Then how can we get over the depression and achieve our goals?The answer is positive attitude. With all the distractions, the only way to move ahead is to concentrate at the task on hand. It is our attitude that drives us to the success. It is the thing that makes or breaks a person. If you have positive attitude in life, you will always look at the better side of the things; you will always bring the positive out of every situation. This will keep you content and happy and will keep your mind peaceful. Positive attitude makes our lives full of hope and optimism, hope that something good lays ahead of all the problems. It is the hope that keeps us going in the right direction. Negativity not only keeps us down but also makes us lose our morale and heart. Being negative will never make you happy.Problems will always be there, there will always be one thing or the other to pull you back and keep you from succeeding. But the difference lies in the way you deal with them. Positive attitude will keep you stronger through your struggle while negativity will make you weaker. So, it is important that whatever you do, whatever the situation may be, always stay positive. It is the only way you will find in life everything you want, peace, love and success.\"\n",
    "\n",
    "scrollbar = Scrollbar(master)\n",
    "scrollbar.pack(side=RIGHT, fill=Y)\n",
    "\n",
    "textBox=Text(master, height=35, width=150,yscrollcommand=scrollbar.set,fg=\"green\",bg=\"black\")\n",
    "textBox.insert(INSERT,text2)\n",
    "textBox.pack()\n",
    "\n",
    "L1 = Label(master, text = \"Number of Sentences\")\n",
    "L1.pack( side = LEFT)\n",
    "E1 = Entry(master, bd = 5, width=100)\n",
    "E1.pack(side = RIGHT, ipady=5)\n",
    "\n",
    "scrollbar.config(command=textBox.yview)\n",
    "\n",
    "mainloop()"
   ]
  },
  {
   "cell_type": "markdown",
   "metadata": {},
   "source": [
    "### summarize(text2,3)"
   ]
  },
  {
   "cell_type": "code",
   "execution_count": null,
   "metadata": {},
   "outputs": [],
   "source": []
  }
 ],
 "metadata": {
  "kernelspec": {
   "display_name": "Python 3",
   "language": "python",
   "name": "python3"
  },
  "language_info": {
   "codemirror_mode": {
    "name": "ipython",
    "version": 3
   },
   "file_extension": ".py",
   "mimetype": "text/x-python",
   "name": "python",
   "nbconvert_exporter": "python",
   "pygments_lexer": "ipython3",
   "version": "3.6.4"
  }
 },
 "nbformat": 4,
 "nbformat_minor": 2
}
