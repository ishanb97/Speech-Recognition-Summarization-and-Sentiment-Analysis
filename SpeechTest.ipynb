{
 "cells": [
  {
   "cell_type": "code",
   "execution_count": 2,
   "metadata": {},
   "outputs": [
    {
     "name": "stdout",
     "output_type": "stream",
     "text": [
      "You said: how often would you change our jesus to make new ones as greg venture has so eloquently shown another is to change her life styles and what we're learning is how powerful and dynamic these changes can be done to don't have to wait to die very long to see the benefits when eat healthier than insurance exercise and lot more your brain and she gets more blood flow of more oxygen but more than that you bring kids measurably bigger things were thought impossible just a few years ago can actually be measured know this was on a figured out by robin williams a few years before the rest of us out there some two things you can do that maker bring greater brain cells to my favorite things like chocolate and see blueberries not alcohol in moderation stress management and come out and lloyd's found a marijuana bound from just the messenger for which the sock him out of hind other things are to make you were sick and go to his brain cells the usual suspects like saturated fats and sugars nicotine opiates cocaine too much alcohol and chronic stress years candidates were blood flow in exchange for lifestyle see you face let's quickly years scandals of rico's much your heart gets more blood flowing showmanship election reverse heart disease that these clogged arteries cities in the upper left after all we're become measurably less claude and the cardiac pet scans show the lower left the bloom is no blood flow regulator arjun widens maximal blood flow we show you may be able to stop or reverse progression of early prosecutor by extension breast cancers simply not make these changes we found a tumor growth in vitro was inhabited seventy percent in the group the way these changes weren't so only nine percent in the comparison to the surfaces were highly significant either sex organs there were blood flows to increase sexual potency our most effective and smoking as was done by the department all services showing that the nicotine which can stretch your honor is to cause a heart attack or stroke and also causes impotence half of guys who smoke limits on how sexy is out now ross about the polish society the first of a show you can change in expression and prosecutors this is what's called a kidnap and different cars along the side of the right are different genes that we found over five hundred jeans were favorably it's not changed that affect turning on the good she's a disease preventing gene's turn off the disease promoting jeans and so this is filings i think you're really very powerful given many people knew hope a new choices the companies like i've never jackson dna direct and twenty three and a better giving your genetic profiles are getting some people sense of gosh will what can i do about it while our genes are not our fate and affinities choose their predisposition that if we make bigger changes are reminded me of otherwise we can actually change how urging serbs frost thank you how\n"
     ]
    }
   ],
   "source": [
    "import speech_recognition as sr\n",
    " \n",
    "# Record Audio\n",
    "r = sr.Recognizer()\n",
    "\n",
    "harv=sr.AudioFile('DeanOrnish_2008.wav')\n",
    "with harv as source:\n",
    "    audio=r.record(source)\n",
    "#    r.adjust_for_ambient_noise(source, duration=2)\n",
    "\n",
    "print(\"You said: \" + r.recognize_sphinx(audio))   # Speech Recognition using google speech API"
   ]
  },
  {
   "cell_type": "code",
   "execution_count": null,
   "metadata": {},
   "outputs": [],
   "source": []
  }
 ],
 "metadata": {
  "kernelspec": {
   "display_name": "Python 3",
   "language": "python",
   "name": "python3"
  },
  "language_info": {
   "codemirror_mode": {
    "name": "ipython",
    "version": 3
   },
   "file_extension": ".py",
   "mimetype": "text/x-python",
   "name": "python",
   "nbconvert_exporter": "python",
   "pygments_lexer": "ipython3",
   "version": "3.6.4"
  }
 },
 "nbformat": 4,
 "nbformat_minor": 2
}
